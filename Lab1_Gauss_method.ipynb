{
  "nbformat": 4,
  "nbformat_minor": 0,
  "metadata": {
    "colab": {
      "provenance": [],
      "collapsed_sections": [],
      "authorship_tag": "ABX9TyNpE9Q2SlRPlm+2Lc4reiW8",
      "include_colab_link": true
    },
    "kernelspec": {
      "name": "python3",
      "display_name": "Python 3"
    },
    "language_info": {
      "name": "python"
    }
  },
  "cells": [
    {
      "cell_type": "markdown",
      "metadata": {
        "id": "view-in-github",
        "colab_type": "text"
      },
      "source": [
        "<a href=\"https://colab.research.google.com/github/mainarel/Numerical_methods_7/blob/main/Lab1_Gauss_method.ipynb\" target=\"_parent\"><img src=\"https://colab.research.google.com/assets/colab-badge.svg\" alt=\"Open In Colab\"/></a>"
      ]
    },
    {
      "cell_type": "markdown",
      "source": [
        "# **Решение СЛАУ методом Гаусса**"
      ],
      "metadata": {
        "id": "YWfSJAZb7duE"
      }
    },
    {
      "cell_type": "markdown",
      "source": [
        "Заполнение матрицы:"
      ],
      "metadata": {
        "id": "ub6WUcw6FtdE"
      }
    },
    {
      "cell_type": "code",
      "execution_count": 102,
      "metadata": {
        "colab": {
          "base_uri": "https://localhost:8080/"
        },
        "id": "G3Ip_Vpu7SxL",
        "outputId": "f4cdb705-3710-4310-a19d-b90d0ba4de1c"
      },
      "outputs": [
        {
          "output_type": "stream",
          "name": "stdout",
          "text": [
            "Матрица А: \n",
            " [[7.16416141 2.24503723 0.55416516 5.62686267 1.8508988 ]\n",
            " [7.5210312  1.71027734 1.25643563 9.21027874 7.02646578]\n",
            " [9.65563191 8.00079416 1.2988792  7.94146067 7.72315498]\n",
            " [5.85059294 6.25919914 5.3714835  0.89321276 0.93563226]\n",
            " [3.95785402 2.08023331 2.50007877 2.72213647 0.51871582]]\n",
            "Матрица B: \n",
            " [[5.33576437]\n",
            " [8.1538501 ]\n",
            " [2.13357209]\n",
            " [4.14977455]\n",
            " [9.24961361]]\n",
            "Расширенная матрица А: \n",
            " [[7.16416141 2.24503723 0.55416516 5.62686267 1.8508988  5.33576437]\n",
            " [7.5210312  1.71027734 1.25643563 9.21027874 7.02646578 8.1538501 ]\n",
            " [9.65563191 8.00079416 1.2988792  7.94146067 7.72315498 2.13357209]\n",
            " [5.85059294 6.25919914 5.3714835  0.89321276 0.93563226 4.14977455]\n",
            " [3.95785402 2.08023331 2.50007877 2.72213647 0.51871582 9.24961361]]\n"
          ]
        }
      ],
      "source": [
        "import numpy as np\n",
        "import matplotlib.pyplot as plt\n",
        "import sys\n",
        "from scipy.linalg import solve\n",
        "\n",
        "# размер матрицы А - n x n, B - n x 1\n",
        "n = 5\n",
        "\n",
        "#A = np.array([[1.0,10.0,6.0],[3.0,2.0,1.0],[4.0,10.0,6.0]])\n",
        "#B = np.array([[3.0,19.0,7.0]]).reshape(n,1)\n",
        "#A = np.random.randint(1, 100, (n, n))\n",
        "A = np.random.rand(n, n) * 10\n",
        "print('Матрица А: \\n', A)\n",
        "\n",
        "\n",
        "#B = np.random.randint(1, 100, (n, 1))\n",
        "B = np.random.rand(n, 1) * 10\n",
        "print('Матрица B: \\n', B)\n",
        "\n",
        "X1 = np.zeros(n)\n",
        "X2 = np.zeros(n)\n",
        "AM = np.column_stack((A, B[:, 0]))\n",
        "AM_copy = np.column_stack((A, B[:, 0]))\n",
        "print('Расширенная матрица А: \\n', AM)"
      ]
    },
    {
      "cell_type": "markdown",
      "source": [
        "Приведение к треугольному виду:"
      ],
      "metadata": {
        "id": "6tTxfA5IFqO1"
      }
    },
    {
      "cell_type": "code",
      "source": [
        "def triangle_form(expanded_matrix, mod):\n",
        "  for i in range(n):\n",
        "      if (expanded_matrix[i][i] == 0.0): \n",
        "          sys.exit('Divide by zero')\n",
        "\n",
        "      if (mod==1): \n",
        "        if  expanded_matrix[i][i] != abs(max(expanded_matrix[i:, i])):\n",
        "          index_line = np.argmax(abs(expanded_matrix[i:,i])) + i\n",
        "          swap(expanded_matrix, index_line, i) \n",
        "\n",
        "      for j in range(i+1, n):\n",
        "          main = expanded_matrix[j][i]/expanded_matrix[i][i]\n",
        "          for k in range(n+1):\n",
        "              expanded_matrix[j][k] = expanded_matrix[j][k] - main * expanded_matrix[i][k]\n",
        "  #print(expanded_matrix)\n",
        "  return expanded_matrix\n"
      ],
      "metadata": {
        "id": "HEOSCltMRrL6"
      },
      "execution_count": 88,
      "outputs": []
    },
    {
      "cell_type": "markdown",
      "source": [
        "Обратная подстановка:"
      ],
      "metadata": {
        "id": "qdN410V8Fvcy"
      }
    },
    {
      "cell_type": "code",
      "source": [
        "def back_substitution(xi, matrix):\n",
        "  xi[n-1] = matrix[n-1][n]/matrix[n-1][n-1]\n",
        "\n",
        "  for i in range(n-2,-1,-1):\n",
        "      xi[i] = matrix[i][n]\n",
        "      \n",
        "      for j in range(i+1,n):\n",
        "          xi[i] = xi[i] - matrix[i][j]*xi[j]\n",
        "      \n",
        "      xi[i] = xi[i]/matrix[i][i]\n",
        "  return xi"
      ],
      "metadata": {
        "id": "xyzsTojoFmMs"
      },
      "execution_count": 89,
      "outputs": []
    },
    {
      "cell_type": "markdown",
      "source": [
        "Функция перестановки строк:"
      ],
      "metadata": {
        "id": "HoqXt_EpDmk1"
      }
    },
    {
      "cell_type": "code",
      "source": [
        "def swap(matrix, index_from_line, index_to_line):\n",
        "  line1, line2 = np.copy(matrix[index_from_line, :]), np.copy(matrix[index_to_line, :])\n",
        "  matrix[index_to_line, :] = line1\n",
        "  matrix[index_from_line, :] = line2\n",
        "  return matrix"
      ],
      "metadata": {
        "id": "A-b88E9EDmHC"
      },
      "execution_count": 59,
      "outputs": []
    },
    {
      "cell_type": "code",
      "source": [
        "def solution(expanded_matrix, xi, mod):\n",
        "  if (mod == 0):\n",
        "    tr_m = triangle_form(expanded_matrix, 0)\n",
        "  else:\n",
        "    tr_m = triangle_form(expanded_matrix, 1)\n",
        "\n",
        "  array = back_substitution(xi,tr_m)\n",
        "  return array"
      ],
      "metadata": {
        "id": "whLR4EoczDKG"
      },
      "execution_count": 60,
      "outputs": []
    },
    {
      "cell_type": "markdown",
      "source": [
        "**Расчет ошибки и невязки:**"
      ],
      "metadata": {
        "id": "_g_UMNH-gp9d"
      }
    },
    {
      "cell_type": "code",
      "source": [
        "def error(xi):\n",
        "  #return np.sqrt(np.sum(np.power(abs(x_real-xi), 2)))\n",
        "  return np.linalg.norm(x_real-xi)\n",
        "\n",
        "def delta(xi):\n",
        "  return np.linalg.norm(np.dot(A, xi) - B.T)\n",
        "\n",
        "x_real = solve(A, B).reshape(1,n)\n",
        "print('Истинное решение:  \\n', x_real, '\\n')\n",
        "\n",
        "X_gauss = solution(AM, X1, 0)\n",
        "X_gauss_mod =  solution(AM_copy, X2, 1)\n",
        "\n",
        "print('Полученное решение методом Гаусса: \\n', X_gauss, '\\n Ошибка: \\n', error(X_gauss), '\\n Невязка:', delta(X_gauss),'\\n')\n",
        "print('Полученное решение улучшенным методом Гаусса: \\n', X_gauss_mod, '\\n Ошибка: \\n', error(X_gauss_mod), '\\n Невязка:', delta(X_gauss_mod),'\\n')"
      ],
      "metadata": {
        "colab": {
          "base_uri": "https://localhost:8080/"
        },
        "id": "kL-NPO39MRjl",
        "outputId": "683c2988-1982-421b-abdd-6eaf562109c0"
      },
      "execution_count": 103,
      "outputs": [
        {
          "output_type": "stream",
          "name": "stdout",
          "text": [
            "Истинное решение:  \n",
            " [[-4.00228384  2.02596552  2.36539858  6.17616052 -3.56736132]] \n",
            "\n",
            "Полученное решение методом Гаусса: \n",
            " [-4.00228384  2.02596552  2.36539858  6.17616052 -3.56736132] \n",
            " Ошибка: \n",
            " 9.74975584715494e-15 \n",
            " Невязка: 2.6332655310265796e-14 \n",
            "\n",
            "Полученное решение улучшенным методом Гаусса: \n",
            " [-4.00228384  2.02596552  2.36539858  6.17616052 -3.56736132] \n",
            " Ошибка: \n",
            " 5.924889052322839e-15 \n",
            " Невязка: 9.969778034532539e-15 \n",
            "\n"
          ]
        }
      ]
    }
  ]
}
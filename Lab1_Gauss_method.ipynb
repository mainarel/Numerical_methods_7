{
  "nbformat": 4,
  "nbformat_minor": 0,
  "metadata": {
    "colab": {
      "provenance": [],
      "collapsed_sections": [],
      "authorship_tag": "ABX9TyNG/TvLfm9J0SvTN2cN9tJl",
      "include_colab_link": true
    },
    "kernelspec": {
      "name": "python3",
      "display_name": "Python 3"
    },
    "language_info": {
      "name": "python"
    }
  },
  "cells": [
    {
      "cell_type": "markdown",
      "metadata": {
        "id": "view-in-github",
        "colab_type": "text"
      },
      "source": [
        "<a href=\"https://colab.research.google.com/github/mainarel/Numerical_methods_7/blob/main/Lab1_Gauss_method.ipynb\" target=\"_parent\"><img src=\"https://colab.research.google.com/assets/colab-badge.svg\" alt=\"Open In Colab\"/></a>"
      ]
    },
    {
      "cell_type": "markdown",
      "source": [
        "# **Решение СЛАУ методом Гаусса**"
      ],
      "metadata": {
        "id": "YWfSJAZb7duE"
      }
    },
    {
      "cell_type": "markdown",
      "source": [
        "# Стандартный метод Гаусса:"
      ],
      "metadata": {
        "id": "kY_oxTyBRmj7"
      }
    },
    {
      "cell_type": "markdown",
      "source": [
        "Заполнение матрицы:"
      ],
      "metadata": {
        "id": "ub6WUcw6FtdE"
      }
    },
    {
      "cell_type": "code",
      "execution_count": 109,
      "metadata": {
        "colab": {
          "base_uri": "https://localhost:8080/"
        },
        "id": "G3Ip_Vpu7SxL",
        "outputId": "5225ae7e-0d05-4f62-b7e0-69a9fd1f1ef8"
      },
      "outputs": [
        {
          "output_type": "stream",
          "name": "stdout",
          "text": [
            "Матрица А: \n",
            " [[0.21752338 0.52488309 0.91524365 0.54375054]\n",
            " [0.78729617 0.43026723 0.00512375 0.62206772]\n",
            " [0.2074201  0.16200388 0.78484008 0.63896278]\n",
            " [0.97785587 0.28213396 0.36553768 0.74835227]]\n",
            "Матрица B: \n",
            " [[0.713179  ]\n",
            " [0.67732313]\n",
            " [0.1907246 ]\n",
            " [0.66153691]]\n",
            "Расширенная матрица А: \n",
            " [[0.21752338 0.52488309 0.91524365 0.54375054 0.713179  ]\n",
            " [0.78729617 0.43026723 0.00512375 0.62206772 0.67732313]\n",
            " [0.2074201  0.16200388 0.78484008 0.63896278 0.1907246 ]\n",
            " [0.97785587 0.28213396 0.36553768 0.74835227 0.66153691]]\n"
          ]
        }
      ],
      "source": [
        "import numpy as np\n",
        "import matplotlib.pyplot as plt\n",
        "import sys\n",
        "\n",
        "# размер матрицы А - n x n, B - n x 1\n",
        "n = 4\n",
        "\n",
        "# A = np.array([[1.0,10.0,3.0],[3.0,2.0,1.0],[4.0,5.0,6.0]])\n",
        "# B = np.array([[3.0,4.0,7.0]]).reshape(n,1)\n",
        "#A = np.random.randint(1, 100, (n, n))\n",
        "A = np.random.rand(n, n)\n",
        "print('Матрица А: \\n', A)\n",
        "\n",
        "\n",
        "#B = np.random.randint(1, 100, (n, 1))\n",
        "B = np.random.rand(n, 1)\n",
        "print('Матрица B: \\n', B)\n",
        "\n",
        "X = np.zeros(n)\n",
        "\n",
        "AM = np.column_stack((A, B[:, 0]))\n",
        "print('Расширенная матрица А: \\n', AM)"
      ]
    },
    {
      "cell_type": "markdown",
      "source": [
        "Приведение к треугольному виду:"
      ],
      "metadata": {
        "id": "6tTxfA5IFqO1"
      }
    },
    {
      "cell_type": "code",
      "source": [
        "def triangle_form(expanded_matrix):\n",
        "  for i in range(n):\n",
        "      if expanded_matrix[i][i] == 0.0:\n",
        "          sys.exit('Divide by zero')\n",
        "          \n",
        "      for j in range(i+1, n):\n",
        "          main = expanded_matrix[j][i]/AM[i][i]\n",
        "          \n",
        "          for k in range(n+1):\n",
        "              expanded_matrix[j][k] = expanded_matrix[j][k] - main * expanded_matrix[i][k]\n",
        "  print('Полученная треугольная матрица: \\n', expanded_matrix)\n",
        "  return expanded_matrix\n",
        "    \n",
        "  "
      ],
      "metadata": {
        "id": "gLVRpqoLCPL6"
      },
      "execution_count": 99,
      "outputs": []
    },
    {
      "cell_type": "markdown",
      "source": [
        "Обратная подстановка:"
      ],
      "metadata": {
        "id": "qdN410V8Fvcy"
      }
    },
    {
      "cell_type": "code",
      "source": [
        "def back_substitution(xi, matrix):\n",
        "  xi[n-1] = matrix[n-1][n]/matrix[n-1][n-1]\n",
        "\n",
        "  for i in range(n-2,-1,-1):\n",
        "      xi[i] = matrix[i][n]\n",
        "      \n",
        "      for j in range(i+1,n):\n",
        "          xi[i] = xi[i] - matrix[i][j]*xi[j]\n",
        "      \n",
        "      xi[i] = xi[i]/matrix[i][i]\n",
        "  return xi"
      ],
      "metadata": {
        "id": "xyzsTojoFmMs"
      },
      "execution_count": 108,
      "outputs": []
    },
    {
      "cell_type": "code",
      "source": [
        "def solution(expanded_matrix, xi, mod):\n",
        "  if (mod == 0):\n",
        "    tr_m = triangle_form(expanded_matrix)\n",
        "  else:\n",
        "    tr_m = triangle_form_mod(expanded_matrix)\n",
        "\n",
        "  array = back_substitution(xi,tr_m)\n",
        "  return array"
      ],
      "metadata": {
        "id": "whLR4EoczDKG"
      },
      "execution_count": 93,
      "outputs": []
    },
    {
      "cell_type": "code",
      "source": [
        "from scipy.linalg import solve\n",
        "x_real = solve(A, B).reshape(1,n)\n",
        "print('Истинное решение:  \\n', x_real)\n",
        "print(solution(AM, X, 0))\n",
        "err = abs(x_real-X)\n",
        "print('Ошибка \\n ', err)"
      ],
      "metadata": {
        "colab": {
          "base_uri": "https://localhost:8080/"
        },
        "id": "kL-NPO39MRjl",
        "outputId": "daa7cae2-ef7c-4305-ea94-a124dc83f666"
      },
      "execution_count": 101,
      "outputs": [
        {
          "output_type": "stream",
          "name": "stdout",
          "text": [
            "Истинное решение:  \n",
            " [[ 2.35858177 -0.03248533 -1.53461187  0.82300279]]\n",
            "Полученная треугольная матрица: \n",
            " [[ 3.09706576e-01  3.17756172e-01  3.38548266e-02  3.82609658e-01\n",
            "   9.83080669e-01]\n",
            " [ 0.00000000e+00  2.57559939e-01  6.88599421e-01 -3.76594271e-01\n",
            "  -1.37503790e+00]\n",
            " [ 0.00000000e+00  0.00000000e+00  1.53938854e+00 -5.71968214e-01\n",
            "  -2.83309537e+00]\n",
            " [-5.55111512e-17  0.00000000e+00  0.00000000e+00 -5.58306272e-01\n",
            "  -4.59487622e-01]]\n",
            "Полученное решение:  [ 2.35858177 -0.03248533 -1.53461187  0.82300279]\n",
            "[ 2.35858177 -0.03248533 -1.53461187  0.82300279]\n",
            "Ошибка \n",
            "  [[8.88178420e-16 4.51028104e-16 4.44089210e-16 1.11022302e-16]]\n"
          ]
        }
      ]
    },
    {
      "cell_type": "markdown",
      "source": [
        "# Метод с выбором главого элемента"
      ],
      "metadata": {
        "id": "07zYsTQXRrxq"
      }
    },
    {
      "cell_type": "markdown",
      "source": [
        "Приведение к треугольному виду:"
      ],
      "metadata": {
        "id": "S2vY7HIYR1ua"
      }
    },
    {
      "cell_type": "markdown",
      "source": [
        "Функция перестановки строк:"
      ],
      "metadata": {
        "id": "HoqXt_EpDmk1"
      }
    },
    {
      "cell_type": "code",
      "source": [
        "def swap(matrix, index_from_line, index_to_line):\n",
        "  line1, line2 = np.copy(matrix[index_from_line, :]), np.copy(matrix[index_to_line, :])\n",
        "  matrix[index_to_line, :] = line1\n",
        "  matrix[index_from_line, :] = line2\n",
        "  return matrix"
      ],
      "metadata": {
        "id": "A-b88E9EDmHC"
      },
      "execution_count": 110,
      "outputs": []
    },
    {
      "cell_type": "code",
      "source": [
        "def triangle_form_mod(expanded_matrix):\n",
        "  for i in range(n):\n",
        "      if (expanded_matrix[i][i] == 0.0): \n",
        "          sys.exit('Divide by zero')\n",
        "\n",
        "      if  expanded_matrix[i][i] != abs(max(expanded_matrix[i:, i])):\n",
        "        index_line = np.argmax(abs(expanded_matrix[i:,i])) + i\n",
        "        swap(expanded_matrix, index_line, i) \n",
        "\n",
        "      for j in range(i+1, n):\n",
        "          main = expanded_matrix[j][i]/expanded_matrix[i][i]\n",
        "          for k in range(n+1):\n",
        "              expanded_matrix[j][k] = expanded_matrix[j][k] - main * expanded_matrix[i][k]\n",
        "    \n",
        "  print('Полученная треугольная матрица: \\n', AM)\n",
        "  return expanded_matrix\n"
      ],
      "metadata": {
        "id": "HEOSCltMRrL6"
      },
      "execution_count": 111,
      "outputs": []
    },
    {
      "cell_type": "code",
      "source": [
        "from scipy.linalg import solve\n",
        "x_real = solve(A, B).reshape(1,n)\n",
        "print('Истинное решение:  \\n', x_real)\n",
        "print(solution(AM, X, 1))\n",
        "err = abs(x_real-X)\n",
        "print('Ошибка \\n ', err)"
      ],
      "metadata": {
        "colab": {
          "base_uri": "https://localhost:8080/"
        },
        "id": "9vo3BGuCWjGB",
        "outputId": "ba36342a-61c3-4d11-fa20-806e70ac328f"
      },
      "execution_count": 112,
      "outputs": [
        {
          "output_type": "stream",
          "name": "stdout",
          "text": [
            "Истинное решение:  \n",
            " [[ 0.66311857  1.17139753  0.28431218 -0.56299063]]\n",
            "Полученная треугольная матрица: \n",
            " [[ 0.97785587  0.28213396  0.36553768  0.74835227  0.66153691]\n",
            " [ 0.          0.46212258  0.83393004  0.37728009  0.56602056]\n",
            " [ 0.          0.          0.52295179  0.39682152 -0.07472524]\n",
            " [ 0.          0.          0.          0.35128851 -0.19777214]]\n",
            "[ 0.66311857  1.17139753  0.28431218 -0.56299063]\n",
            "Ошибка \n",
            "  [[2.22044605e-16 0.00000000e+00 1.11022302e-16 3.33066907e-16]]\n"
          ]
        }
      ]
    }
  ]
}
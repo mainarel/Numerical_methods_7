{
  "nbformat": 4,
  "nbformat_minor": 0,
  "metadata": {
    "colab": {
      "provenance": [],
      "collapsed_sections": [],
      "authorship_tag": "ABX9TyNDZyTX5SbGSxzTxAbA3wbW",
      "include_colab_link": true
    },
    "kernelspec": {
      "name": "python3",
      "display_name": "Python 3"
    },
    "language_info": {
      "name": "python"
    }
  },
  "cells": [
    {
      "cell_type": "markdown",
      "metadata": {
        "id": "view-in-github",
        "colab_type": "text"
      },
      "source": [
        "<a href=\"https://colab.research.google.com/github/mainarel/Numerical_methods_7/blob/main/Lab1_Gauss_method.ipynb\" target=\"_parent\"><img src=\"https://colab.research.google.com/assets/colab-badge.svg\" alt=\"Open In Colab\"/></a>"
      ]
    },
    {
      "cell_type": "markdown",
      "source": [
        "# **Решение СЛАУ методом Гаусса**"
      ],
      "metadata": {
        "id": "YWfSJAZb7duE"
      }
    },
    {
      "cell_type": "markdown",
      "source": [
        "Заполнение матрицы:"
      ],
      "metadata": {
        "id": "ub6WUcw6FtdE"
      }
    },
    {
      "cell_type": "code",
      "execution_count": 98,
      "metadata": {
        "colab": {
          "base_uri": "https://localhost:8080/"
        },
        "id": "G3Ip_Vpu7SxL",
        "outputId": "8d250df3-78f6-4670-d9b5-c46c0e722dce"
      },
      "outputs": [
        {
          "output_type": "stream",
          "name": "stdout",
          "text": [
            "Матрица А: \n",
            " [[0.3721239  4.65295589 0.26285482 0.32845339 4.59037547]\n",
            " [7.02182801 6.32269633 5.44071744 4.96518926 2.92397642]\n",
            " [9.82381337 9.38178307 8.31098819 8.69338434 2.72317656]\n",
            " [1.85301936 0.73645763 3.76148419 3.66811641 5.20683971]\n",
            " [5.21449354 3.21078301 8.05446604 7.42212635 8.59719394]]\n",
            "Матрица B: \n",
            " [[6.18459569]\n",
            " [0.46115072]\n",
            " [3.53703033]\n",
            " [3.57967632]\n",
            " [9.21390369]]\n",
            "Расширенная матрица А: \n",
            " [[0.3721239  4.65295589 0.26285482 0.32845339 4.59037547 6.18459569]\n",
            " [7.02182801 6.32269633 5.44071744 4.96518926 2.92397642 0.46115072]\n",
            " [9.82381337 9.38178307 8.31098819 8.69338434 2.72317656 3.53703033]\n",
            " [1.85301936 0.73645763 3.76148419 3.66811641 5.20683971 3.57967632]\n",
            " [5.21449354 3.21078301 8.05446604 7.42212635 8.59719394 9.21390369]]\n"
          ]
        }
      ],
      "source": [
        "import numpy as np\n",
        "import matplotlib.pyplot as plt\n",
        "import sys\n",
        "from scipy.linalg import solve\n",
        "\n",
        "# размер матрицы А - n x n, B - n x 1\n",
        "n = 5\n",
        "\n",
        "#A = np.array([[1.0,10.0,6.0],[3.0,2.0,1.0],[4.0,10.0,6.0]])\n",
        "#B = np.array([[3.0,19.0,7.0]]).reshape(n,1)\n",
        "#A = np.random.randint(1, 100, (n, n))\n",
        "A = np.random.rand(n, n) * 10\n",
        "print('Матрица А: \\n', A)\n",
        "\n",
        "\n",
        "#B = np.random.randint(1, 100, (n, 1))\n",
        "B = np.random.rand(n, 1) * 10\n",
        "print('Матрица B: \\n', B)\n",
        "\n",
        "X1 = np.zeros(n)\n",
        "X2 = np.zeros(n)\n",
        "AM = np.column_stack((A, B[:, 0]))\n",
        "AM_copy = np.column_stack((A, B[:, 0]))\n",
        "print('Расширенная матрица А: \\n', AM)"
      ]
    },
    {
      "cell_type": "markdown",
      "source": [
        "Приведение к треугольному виду:"
      ],
      "metadata": {
        "id": "6tTxfA5IFqO1"
      }
    },
    {
      "cell_type": "code",
      "source": [
        "def triangle_form(expanded_matrix, mod):\n",
        "  for i in range(n):\n",
        "      if (expanded_matrix[i][i] == 0.0): \n",
        "          sys.exit('Divide by zero')\n",
        "\n",
        "      if (mod==1): \n",
        "        if  expanded_matrix[i][i] != abs(max(expanded_matrix[i:, i])):\n",
        "          index_line = np.argmax(abs(expanded_matrix[i:,i])) + i\n",
        "          swap(expanded_matrix, index_line, i) \n",
        "\n",
        "      for j in range(i+1, n):\n",
        "          main = expanded_matrix[j][i]/expanded_matrix[i][i]\n",
        "          for k in range(n+1):\n",
        "              expanded_matrix[j][k] = expanded_matrix[j][k] - main * expanded_matrix[i][k]\n",
        "  #print(expanded_matrix)\n",
        "  return expanded_matrix\n"
      ],
      "metadata": {
        "id": "HEOSCltMRrL6"
      },
      "execution_count": 88,
      "outputs": []
    },
    {
      "cell_type": "markdown",
      "source": [
        "Обратная подстановка:"
      ],
      "metadata": {
        "id": "qdN410V8Fvcy"
      }
    },
    {
      "cell_type": "code",
      "source": [
        "def back_substitution(xi, matrix):\n",
        "  xi[n-1] = matrix[n-1][n]/matrix[n-1][n-1]\n",
        "\n",
        "  for i in range(n-2,-1,-1):\n",
        "      xi[i] = matrix[i][n]\n",
        "      \n",
        "      for j in range(i+1,n):\n",
        "          xi[i] = xi[i] - matrix[i][j]*xi[j]\n",
        "      \n",
        "      xi[i] = xi[i]/matrix[i][i]\n",
        "  return xi"
      ],
      "metadata": {
        "id": "xyzsTojoFmMs"
      },
      "execution_count": 89,
      "outputs": []
    },
    {
      "cell_type": "markdown",
      "source": [
        "Функция перестановки строк:"
      ],
      "metadata": {
        "id": "HoqXt_EpDmk1"
      }
    },
    {
      "cell_type": "code",
      "source": [
        "def swap(matrix, index_from_line, index_to_line):\n",
        "  line1, line2 = np.copy(matrix[index_from_line, :]), np.copy(matrix[index_to_line, :])\n",
        "  matrix[index_to_line, :] = line1\n",
        "  matrix[index_from_line, :] = line2\n",
        "  return matrix"
      ],
      "metadata": {
        "id": "A-b88E9EDmHC"
      },
      "execution_count": 59,
      "outputs": []
    },
    {
      "cell_type": "code",
      "source": [
        "def solution(expanded_matrix, xi, mod):\n",
        "  if (mod == 0):\n",
        "    tr_m = triangle_form(expanded_matrix, 0)\n",
        "  else:\n",
        "    tr_m = triangle_form(expanded_matrix, 1)\n",
        "\n",
        "  array = back_substitution(xi,tr_m)\n",
        "  return array"
      ],
      "metadata": {
        "id": "whLR4EoczDKG"
      },
      "execution_count": 60,
      "outputs": []
    },
    {
      "cell_type": "markdown",
      "source": [
        "**Расчет ошибки и невязки:**"
      ],
      "metadata": {
        "id": "_g_UMNH-gp9d"
      }
    },
    {
      "cell_type": "code",
      "source": [
        "def error(xi):\n",
        "  #return np.sqrt(np.sum(np.power(abs(x_real-xi), 2)))\n",
        "  return np.linalg.norm(x_real-xi)\n",
        "\n",
        "def delta(xi):\n",
        "  return np.linalg.norm(np.dot(A, xi) - B)\n",
        "\n",
        "x_real = solve(A, B).reshape(1,n)\n",
        "print('Истинное решение:  \\n', x_real, '\\n')\n",
        "\n",
        "\n",
        "X_gauss = solution(AM, X1, 0)\n",
        "X_gauss_mod =  solution(AM_copy, X2, 1)\n",
        "\n",
        "print('Полученное решение методом Гаусса: \\n', X_gauss, '\\n Ошибка: \\n', error(X_gauss), '\\n Невязка:', delta(X_gauss),'\\n')\n",
        "print('Полученное решение улучшенным методом Гаусса: \\n', X_gauss_mod, '\\n Ошибка: \\n', error(X_gauss_mod), '\\n Невязка:', delta(X_gauss_mod),'\\n')\n",
        "\n",
        "\n",
        "print(np.linalg.norm(np.dot(A, X_gauss) - B))\n",
        "\n"
      ],
      "metadata": {
        "colab": {
          "base_uri": "https://localhost:8080/"
        },
        "id": "kL-NPO39MRjl",
        "outputId": "d5e705ad-94a9-468c-fc78-9c16c3bbbf95"
      },
      "execution_count": 99,
      "outputs": [
        {
          "output_type": "stream",
          "name": "stdout",
          "text": [
            "Истинное решение:  \n",
            " [[-5.88483954  2.72268098  8.23240169 -3.3868556  -1.16450857]] \n",
            "\n",
            "Полученное решение методом Гаусса: \n",
            " [-5.88483954  2.72268098  8.23240169 -3.3868556  -1.16450857] \n",
            " Ошибка: \n",
            " 3.1680092908125005e-14 \n",
            " Невязка: 20.760534006735273 \n",
            "\n",
            "Полученное решение улучшенным методом Гаусса: \n",
            " [-5.88483954  2.72268098  8.23240169 -3.3868556  -1.16450857] \n",
            " Ошибка: \n",
            " 6.423961869778975e-15 \n",
            " Невязка: 20.760534006735273 \n",
            "\n",
            "20.760534006735273\n"
          ]
        }
      ]
    }
  ]
}
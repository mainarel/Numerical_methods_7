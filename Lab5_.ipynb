{
  "nbformat": 4,
  "nbformat_minor": 0,
  "metadata": {
    "colab": {
      "provenance": [],
      "authorship_tag": "ABX9TyM3n6N9TzbF8xk2rBOBjCTg",
      "include_colab_link": true
    },
    "kernelspec": {
      "name": "python3",
      "display_name": "Python 3"
    },
    "language_info": {
      "name": "python"
    }
  },
  "cells": [
    {
      "cell_type": "markdown",
      "metadata": {
        "id": "view-in-github",
        "colab_type": "text"
      },
      "source": [
        "<a href=\"https://colab.research.google.com/github/mainarel/Numerical_methods_7/blob/main/Lab5_.ipynb\" target=\"_parent\"><img src=\"https://colab.research.google.com/assets/colab-badge.svg\" alt=\"Open In Colab\"/></a>"
      ]
    },
    {
      "cell_type": "markdown",
      "source": [
        "*Решить численно разностным методом и методом конечных элементов с кусочно-линейными базисными функциями граничную задачу. Сравнить результаты решения полученными двумя методами с точным решением.*"
      ],
      "metadata": {
        "id": "NvRJNiJQv-q2"
      }
    },
    {
      "cell_type": "markdown",
      "source": [
        "$$ \n",
        "\\frac{d^2 u}{dx^2} =f(x),\\\\ 0<x<1, u(0) = 0, u(1) = 0\n",
        "$$"
      ],
      "metadata": {
        "id": "9qyShACKwOyZ"
      }
    },
    {
      "cell_type": "markdown",
      "source": [
        "Вариант 3. \n",
        "$$\n",
        "f(x) = x^3 \n",
        "$$"
      ],
      "metadata": {
        "id": "ymjVo-hdxQWT"
      }
    },
    {
      "cell_type": "code",
      "execution_count": 1,
      "metadata": {
        "id": "wnlTppUivvAU"
      },
      "outputs": [],
      "source": [
        "import numpy as np\n",
        "import matplotlib.pyplot as plt"
      ]
    },
    {
      "cell_type": "code",
      "source": [
        "xmin = 0\n",
        "xmax = 1\n",
        "hx = 0.01\n",
        "    \n",
        "\n",
        "nx = int((xmax - xmin) / hx) +1\n",
        "x_array, hx = np.linspace(xmin,xmax, nx, retstep = True)\n",
        "\n"
      ],
      "metadata": {
        "id": "c82HC52yxmbc"
      },
      "execution_count": 2,
      "outputs": []
    },
    {
      "cell_type": "code",
      "source": [
        "def f(x):\n",
        "    return np.x ** 3\n",
        "\n",
        "def solution(x):\n",
        "    return 19/20 * np.x + (np.x ** 5) / 20\n",
        "\n",
        "\n",
        "def basis():\n",
        "    basis_ = [value_v_k(k) for k in range (1, nx-1)]\n",
        "    basis_ = np.array(basis)\n",
        "    return None\n",
        "\n",
        "def value_v_k(k):\n",
        "        def v_k(x):\n",
        "            return np.piecewise(x, [x_array[k-1] <= x <= x_array[k], x_array[k] < x <= x_array[k+1], x < x_array[k-1] or x > x_array[k+1]],\n",
        "                [lambda x: (x - x_array[k-1])/(x_array[k] - x_array[k-1]), \n",
        "                 lambda x: (x_array[k+1] - x)/(x_array[k+1] - x_array[k]),\n",
        "                 lambda x :0])\n",
        "        return v_k\n",
        "\n",
        "\n",
        "def matrix_phi():\n",
        "    phi = []\n",
        "    for i in range(1, nx-1):\n",
        "            phi.append([])\n",
        "            for j in range(1, nx-1):\n",
        "                if i == j:\n",
        "                    I = 2/hx\n",
        "                elif (i == j + 1) or (i == j - 1):\n",
        "                    I = -1/hx\n",
        "                else:\n",
        "                    I = 0\n",
        "                phi[i-1].append(I)\n",
        "    phi = np.array(phi)\n",
        "    return None\n",
        "\n",
        "\n"
      ],
      "metadata": {
        "id": "HzFdxngSyEyf"
      },
      "execution_count": 3,
      "outputs": []
    }
  ]
}
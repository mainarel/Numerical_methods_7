{
  "nbformat": 4,
  "nbformat_minor": 0,
  "metadata": {
    "colab": {
      "provenance": [],
      "collapsed_sections": [],
      "authorship_tag": "ABX9TyMgR4Q1ZmI+ZRUtCpVT9uBk",
      "include_colab_link": true
    },
    "kernelspec": {
      "name": "python3",
      "display_name": "Python 3"
    },
    "language_info": {
      "name": "python"
    }
  },
  "cells": [
    {
      "cell_type": "markdown",
      "metadata": {
        "id": "view-in-github",
        "colab_type": "text"
      },
      "source": [
        "<a href=\"https://colab.research.google.com/github/mainarel/Numerical_methods_7/blob/main/Lab3_minimal_residual_method.ipynb\" target=\"_parent\"><img src=\"https://colab.research.google.com/assets/colab-badge.svg\" alt=\"Open In Colab\"/></a>"
      ]
    },
    {
      "cell_type": "code",
      "execution_count": 2,
      "metadata": {
        "id": "iXq5vqNRPDxm"
      },
      "outputs": [],
      "source": [
        "import numpy as np\n",
        "import matplotlib.pyplot as plt\n",
        "import scipy as sp\n",
        "from scipy.sparse import csr_matrix"
      ]
    },
    {
      "cell_type": "markdown",
      "source": [
        "Заполнение матрицы, границы области, шаг сетки:"
      ],
      "metadata": {
        "id": "ib200mSPexff"
      }
    },
    {
      "cell_type": "code",
      "source": [
        "n = 5\n",
        "\n",
        "A = np.random.rand(n, n) * 10\n",
        "\n",
        "print('Матрица А: \\n', A)\n",
        "\n",
        "B = np.random.rand(n, 1) * 10\n",
        "print('Матрица B: \\n', B)\n",
        "\n",
        "AM = np.column_stack((A, B[:, 0]))\n",
        "\n",
        "print('Расширенная матрица А: \\n', AM)\n",
        "\n",
        "x_min = 0\n",
        "x_max = 1\n",
        "y_min = 0\n",
        "y_max = 2"
      ],
      "metadata": {
        "colab": {
          "base_uri": "https://localhost:8080/"
        },
        "id": "4ZG6Hd2xViPg",
        "outputId": "076f818b-6f4d-4d56-ab9a-a0bd808e6155"
      },
      "execution_count": 7,
      "outputs": [
        {
          "output_type": "stream",
          "name": "stdout",
          "text": [
            "Матрица А: \n",
            " [[5.01864779 8.05969617 2.66070279 4.60952357 2.38147712]\n",
            " [4.19064345 5.97705647 1.84088782 9.88095509 4.47319635]\n",
            " [2.38692906 8.77694391 2.09528765 1.57008879 1.94392997]\n",
            " [1.29963947 2.36935616 2.73697653 6.90149551 3.25346654]\n",
            " [9.51977353 3.54137629 4.1133648  2.44061299 2.61941923]]\n",
            "Матрица B: \n",
            " [[2.9254699 ]\n",
            " [0.74628697]\n",
            " [0.76417813]\n",
            " [3.42591578]\n",
            " [4.61323659]]\n",
            "Расширенная матрица А: \n",
            " [[5.01864779 8.05969617 2.66070279 4.60952357 2.38147712 2.9254699 ]\n",
            " [4.19064345 5.97705647 1.84088782 9.88095509 4.47319635 0.74628697]\n",
            " [2.38692906 8.77694391 2.09528765 1.57008879 1.94392997 0.76417813]\n",
            " [1.29963947 2.36935616 2.73697653 6.90149551 3.25346654 3.42591578]\n",
            " [9.51977353 3.54137629 4.1133648  2.44061299 2.61941923 4.61323659]]\n"
          ]
        }
      ]
    },
    {
      "cell_type": "markdown",
      "source": [
        "**Условия задачи:** \\\\\n",
        "*Используя метод минимальных невязок найти решение СЛАУ, возникающей при разностной аппроксимации задачи Дирихле для двумерного уравнения Пуассона в прямоугольнике.\n",
        "Даны точные решения.* \\\\\n",
        "$$ u(x,y) = 5(-3x+4y)cos(5x+2y)+3y^2 \\\\\n",
        "0 \\leq x \\leq 1, \\\\ 0 \\leq y \\leq 2 \n",
        "$$\n",
        "*Вычислим производные:*\n",
        "$$\n",
        "u_{xx} = 150sin(5x+2y) - 125cos(5x+2y)(-3x+4y) \\\\\n",
        "u_{yy} = -80sin(5x+2y)-20cos(5x+2y)(-3x+4y)+6 \\\\\n",
        "f(x,y)=u_{xx} + u_{yy}  = 70sin(5x+2y)-145cos(5x+2y)(-3x+4y)+6\n",
        "$$\n",
        "\n",
        "*Ограничения:*\n",
        "$$\n",
        "\\begin{cases}\n",
        "u(0, y)=\\mu(0, y)=\\mu_{x}^{(1)}(y) = 20y cos(2y)+3y^2\n",
        "\\\\\n",
        "u(1, y)=\\mu(1, y)=\\mu_{x}^{(2)}(y) = (-15+20y)cos(5+2y)+3y^2\n",
        "\\\\\n",
        "u(x, 0)=\\mu(x, 0)=\\mu_{y}^{(1)}(x) = -15xcos(5x)\n",
        "\\\\\n",
        "u(x, 2)=\\mu(x, 2)=\\mu_{y}^{(2)}(x) = (-15x+40)cos(5x+4)+12\n",
        "\\end{cases}\n",
        "$$"
      ],
      "metadata": {
        "id": "c_LJDwDgWOak"
      }
    },
    {
      "cell_type": "markdown",
      "source": [
        "Граничные условия, аналитическое решение:\n"
      ],
      "metadata": {
        "id": "8aDY9mL4ahRV"
      }
    },
    {
      "cell_type": "code",
      "source": [
        "def f(x,y):\n",
        "  return 70*np.sin(5*x+2*y)-145*np.cos(5*x+2*y)*(-3*x+4*y)+6\n",
        "\n",
        "def u(x,y):\n",
        "  return 5*(-3*x+4*y)*np.cos(5*x+2*y)+3*y**2\n",
        "    \n",
        "def mu1_x(y):\n",
        "    return 20*y*np.cos(2*y)+2*y**2\n",
        "\n",
        "def mu2_x(y):\n",
        "    return (-15+20*y)*np.cos(5+2*y)+3*y**2\n",
        "\n",
        "def mu1_y(x):\n",
        "    return -15*x*np.cos(5*x)\n",
        "\n",
        "def mu2_y(x):\n",
        "    return (-15*x+40)*np.cos(5*x+4)+12\n"
      ],
      "metadata": {
        "id": "Wdod0prKWJlT"
      },
      "execution_count": 8,
      "outputs": []
    },
    {
      "cell_type": "markdown",
      "source": [
        "Дополнительные функции:"
      ],
      "metadata": {
        "id": "mizuwHHFWKmW"
      }
    },
    {
      "cell_type": "code",
      "source": [
        "#перестановка строк\n",
        "def swap(matrix, index_from_line, index_to_line):\n",
        "  line1, line2 = np.copy(matrix[index_from_line, :]), np.copy(matrix[index_to_line, :])\n",
        "  matrix[index_to_line, :] = line1\n",
        "  matrix[index_from_line, :] = line2\n",
        "  return matrix\n",
        "\n",
        "#число обусловленности\n",
        "def condition_number(A):  \n",
        "    return np.linalg.cond(A)\n",
        "\n",
        "#ошибка\n",
        "def error(array):\n",
        "  real_array = np.linalg.solve(A, B)\n",
        "  return np.linalg.norm(real_array-array)\n",
        "\n",
        "#невязка\n",
        "def delta(array):\n",
        "  return np.linalg.norm(np.dot(A, array) - B.T)\n",
        "\n",
        "#деление строки на число\n",
        "def line_division(matrix, line_number, koef):\n",
        "        matrix[line_number] = [element / koef if element != 0 else 0 for element in matrix[line_number]]\n",
        "\n",
        "# Совмещение строк\n",
        "def line_merging(matrix, index_from_line, index_to_line, multiplier):\n",
        "       matrix[index_to_line] += multiplier*np.array(matrix[index_from_line])\n"
      ],
      "metadata": {
        "id": "aDns-SCrUZo4"
      },
      "execution_count": 13,
      "outputs": []
    },
    {
      "cell_type": "markdown",
      "source": [
        "Метод наименьших невязок:"
      ],
      "metadata": {
        "id": "NYCW9H7irJSV"
      }
    },
    {
      "cell_type": "code",
      "source": [
        "def min_residual_method(A,B):\n",
        "  "
      ],
      "metadata": {
        "colab": {
          "base_uri": "https://localhost:8080/"
        },
        "id": "e-hduuEHiFOq",
        "outputId": "330d9ede-171e-4d0b-f0de-b0e275e36336"
      },
      "execution_count": 15,
      "outputs": [
        {
          "output_type": "stream",
          "name": "stdout",
          "text": [
            "[[ 5.01864779  8.05969617  2.66070279  4.60952357  2.38147712]\n",
            " [29.28388238 46.2755373  15.14440175 32.92857294 16.38058193]\n",
            " [ 2.38692906  8.77694391  2.09528765  1.57008879  1.94392997]\n",
            " [ 1.29963947  2.36935616  2.73697653  6.90149551  3.25346654]\n",
            " [ 9.51977353  3.54137629  4.1133648   2.44061299  2.61941923]]\n",
            "None\n"
          ]
        }
      ]
    }
  ]
}